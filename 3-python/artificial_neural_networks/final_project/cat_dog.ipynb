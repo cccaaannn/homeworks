{
  "nbformat": 4,
  "nbformat_minor": 0,
  "metadata": {
    "colab": {
      "name": "cat_dog",
      "provenance": [],
      "collapsed_sections": [],
      "machine_shape": "hm"
    },
    "kernelspec": {
      "name": "python3",
      "display_name": "Python 3"
    },
    "accelerator": "GPU"
  },
  "cells": [
    {
      "cell_type": "markdown",
      "metadata": {
        "id": "hFWXcDlUWfAF"
      },
      "source": [
        "**Check the gpu**"
      ]
    },
    {
      "cell_type": "code",
      "metadata": {
        "id": "HoeiVuu3XY5K"
      },
      "source": [
        "!nvidia-smi"
      ],
      "execution_count": null,
      "outputs": []
    },
    {
      "cell_type": "markdown",
      "metadata": {
        "id": "R1-Ul-NCdmCC"
      },
      "source": [
        "**Download and unzip dataset**"
      ]
    },
    {
      "cell_type": "code",
      "metadata": {
        "id": "dnCUV3QDJ6Ty"
      },
      "source": [
        "!wget https://download.microsoft.com/download/3/E/1/3E1C3F21-ECDB-4869-8368-6DEBA77B919F/kagglecatsanddogs_3367a.zip\n",
        "!unzip kagglecatsanddogs_3367a.zip"
      ],
      "execution_count": null,
      "outputs": []
    },
    {
      "cell_type": "markdown",
      "metadata": {
        "id": "NFN6zYVTdvX9"
      },
      "source": [
        "**Install extra libs**"
      ]
    },
    {
      "cell_type": "code",
      "metadata": {
        "id": "ePbkJ7pAPS8V"
      },
      "source": [
        "!pip install imagepreprocessing"
      ],
      "execution_count": null,
      "outputs": []
    },
    {
      "cell_type": "markdown",
      "metadata": {
        "id": "Jhk8XxSFI_SR"
      },
      "source": [
        "**select tf 1.x**"
      ]
    },
    {
      "cell_type": "code",
      "metadata": {
        "id": "ZyIQLWYrI-2R"
      },
      "source": [
        "%tensorflow_version 1.x"
      ],
      "execution_count": null,
      "outputs": []
    },
    {
      "cell_type": "markdown",
      "metadata": {
        "id": "b2bmk3-uUuzs"
      },
      "source": [
        "**Imports**"
      ]
    },
    {
      "cell_type": "code",
      "metadata": {
        "id": "WerImThL0kOo"
      },
      "source": [
        "import warnings\n",
        "warnings.filterwarnings(\"ignore\")\n",
        "\n",
        "# keras and tf\n",
        "import tensorflow as tf\n",
        "import keras\n",
        "\n",
        "# models\n",
        "from keras.models import Sequential\n",
        "\n",
        "# backend\n",
        "from keras import optimizers, metrics, models\n",
        "import keras.backend as K\n",
        "\n",
        "# layers\n",
        "from keras.layers import Input, Flatten, Dense, Dropout, Activation\n",
        "from keras.layers import Conv2D, MaxPooling2D, GlobalAveragePooling2D, AveragePooling2D, BatchNormalization\n",
        "\n",
        "# optimizers\n",
        "from keras.optimizers import SGD\n",
        "\n",
        "# training\n",
        "from keras.callbacks import ModelCheckpoint\n",
        "\n",
        "# other libs\n",
        "import numpy as np\n",
        "import math\n",
        "import pickle\n",
        "import os"
      ],
      "execution_count": null,
      "outputs": []
    },
    {
      "cell_type": "code",
      "metadata": {
        "id": "f0F3mbu4cYJP"
      },
      "source": [
        "# imagepreprocessing\n",
        "from  imagepreprocessing.keras_functions import create_training_data_keras, make_prediction_from_array_keras\n",
        "from  imagepreprocessing.utilities import create_confusion_matrix, train_test_split"
      ],
      "execution_count": null,
      "outputs": []
    },
    {
      "cell_type": "markdown",
      "metadata": {
        "id": "9EBGDP3Gd6Pe"
      },
      "source": [
        "**Create training data**"
      ]
    },
    {
      "cell_type": "code",
      "metadata": {
        "id": "flap2p8OPDay"
      },
      "source": [
        "x, y, test_x, test_y  = create_training_data_keras(\"/content/PetImages\", image_size=224, percent_to_use=1, validation_split=0.2, grayscale=True)"
      ],
      "execution_count": null,
      "outputs": []
    },
    {
      "cell_type": "code",
      "metadata": {
        "id": "ei3urz0gcyxF"
      },
      "source": [
        "x, y, test_x, test_y =  train_test_split(x,y)"
      ],
      "execution_count": null,
      "outputs": []
    },
    {
      "cell_type": "markdown",
      "metadata": {
        "id": "ji1FKrj2eIUm"
      },
      "source": [
        "**Create model**"
      ]
    },
    {
      "cell_type": "code",
      "metadata": {
        "id": "nJBflC-QlFuh"
      },
      "source": [
        "# model 1\n",
        "model = Sequential()\n",
        "model.add(Conv2D(64, (3,3), input_shape=x.shape[1:], activation='relu'))\n",
        "model.add(MaxPooling2D(pool_size=(2,2)))\n",
        "\n",
        "model.add(Flatten())\n",
        "\n",
        "model.add(Dense(2, activation='softmax'))"
      ],
      "execution_count": null,
      "outputs": []
    },
    {
      "cell_type": "code",
      "metadata": {
        "id": "MPWC4ZMCLRem"
      },
      "source": [
        "# model 2\n",
        "model = Sequential()\n",
        "model.add(Conv2D(64, (3,3), input_shape=x.shape[1:], activation='relu'))\n",
        "model.add(MaxPooling2D(pool_size=(2,2)))\n",
        "\n",
        "model.add(Conv2D(64, (3,3), activation='relu'))\n",
        "model.add(MaxPooling2D(pool_size=(2,2)))\n",
        "\n",
        "model.add(Flatten())\n",
        "\n",
        "model.add(Dense(2, activation='softmax'))"
      ],
      "execution_count": null,
      "outputs": []
    },
    {
      "cell_type": "code",
      "metadata": {
        "id": "R19Nq5ZikmYK"
      },
      "source": [
        "# model 3\n",
        "model = Sequential()\n",
        "model.add(Conv2D(64, (3,3), input_shape=x.shape[1:], activation='relu'))\n",
        "model.add(MaxPooling2D(pool_size=(2,2)))\n",
        "\n",
        "model.add(Conv2D(64, (3,3), activation='relu'))\n",
        "model.add(MaxPooling2D(pool_size=(2,2)))\n",
        "\n",
        "model.add(Conv2D(128, (3,3), activation='relu'))\n",
        "model.add(MaxPooling2D(pool_size=(2,2)))\n",
        "\n",
        "model.add(Flatten())\n",
        "\n",
        "model.add(Dense(2, activation='softmax'))"
      ],
      "execution_count": null,
      "outputs": []
    },
    {
      "cell_type": "code",
      "metadata": {
        "id": "jdKl0imZurOT"
      },
      "source": [
        "# model 4\n",
        "model = Sequential()\n",
        "model.add(Conv2D(64, (3,3), input_shape=x.shape[1:], activation='relu'))\n",
        "model.add(MaxPooling2D(pool_size=(2,2)))\n",
        "\n",
        "model.add(Conv2D(64, (3,3), activation='relu'))\n",
        "model.add(MaxPooling2D(pool_size=(2,2)))\n",
        "\n",
        "model.add(Conv2D(128, (3,3), activation='relu'))\n",
        "model.add(MaxPooling2D(pool_size=(2,2)))\n",
        "\n",
        "model.add(Conv2D(256, (3,3), activation='relu'))\n",
        "model.add(MaxPooling2D(pool_size=(2,2)))\n",
        "\n",
        "model.add(Flatten())\n",
        "\n",
        "model.add(Dense(2, activation='softmax'))"
      ],
      "execution_count": null,
      "outputs": []
    },
    {
      "cell_type": "code",
      "metadata": {
        "id": "G2FwGwqB7GAA"
      },
      "source": [
        "# model 5\n",
        "model = Sequential()\n",
        "model.add(Conv2D(64, (3,3), input_shape=x.shape[1:], activation='relu'))\n",
        "model.add(MaxPooling2D(pool_size=(2,2)))\n",
        "\n",
        "model.add(Conv2D(64, (3,3), activation='relu'))\n",
        "model.add(MaxPooling2D(pool_size=(2,2)))\n",
        "\n",
        "model.add(Conv2D(128, (3,3), activation='relu'))\n",
        "model.add(MaxPooling2D(pool_size=(2,2)))\n",
        "\n",
        "model.add(Conv2D(256, (3,3), activation='relu'))\n",
        "model.add(MaxPooling2D(pool_size=(2,2)))\n",
        "\n",
        "model.add(Conv2D(512, (3,3), activation='relu'))\n",
        "model.add(MaxPooling2D(pool_size=(2,2)))\n",
        "\n",
        "model.add(Flatten())\n",
        "\n",
        "model.add(Dense(2, activation='softmax'))"
      ],
      "execution_count": null,
      "outputs": []
    },
    {
      "cell_type": "code",
      "metadata": {
        "id": "erq2rg-6FuLI"
      },
      "source": [
        "# model 6\n",
        "model = Sequential()\n",
        "model.add(Conv2D(16, (3,3), input_shape=x.shape[1:], activation='relu'))\n",
        "model.add(MaxPooling2D(pool_size=(2,2)))\n",
        "\n",
        "model.add(Conv2D(32, (3,3), activation='relu'))\n",
        "model.add(MaxPooling2D(pool_size=(2,2)))\n",
        "\n",
        "model.add(Conv2D(64, (3,3), activation='relu'))\n",
        "model.add(MaxPooling2D(pool_size=(2,2)))\n",
        "\n",
        "model.add(Conv2D(128, (3,3), activation='relu'))\n",
        "model.add(MaxPooling2D(pool_size=(2,2)))\n",
        "\n",
        "model.add(Conv2D(256, (3,3), activation='relu'))\n",
        "model.add(MaxPooling2D(pool_size=(2,2)))\n",
        "\n",
        "model.add(Flatten())\n",
        "\n",
        "model.add(Dense(2, activation='softmax'))"
      ],
      "execution_count": null,
      "outputs": []
    },
    {
      "cell_type": "code",
      "metadata": {
        "id": "T5-e_F87JR-b"
      },
      "source": [
        "# model 7\n",
        "model = Sequential()\n",
        "model.add(Conv2D(16, (3,3), input_shape=x.shape[1:], activation='relu'))\n",
        "model.add(MaxPooling2D(pool_size=(2,2)))\n",
        "\n",
        "model.add(Conv2D(32, (3,3), activation='relu'))\n",
        "model.add(MaxPooling2D(pool_size=(2,2)))\n",
        "\n",
        "model.add(Conv2D(64, (3,3), activation='relu'))\n",
        "model.add(MaxPooling2D(pool_size=(2,2)))\n",
        "\n",
        "model.add(Conv2D(128, (3,3), activation='relu'))\n",
        "model.add(MaxPooling2D(pool_size=(2,2)))\n",
        "\n",
        "model.add(Conv2D(256, (3,3), activation='relu'))\n",
        "model.add(MaxPooling2D(pool_size=(2,2)))\n",
        "\n",
        "model.add(Conv2D(512, (3,3), activation='relu'))\n",
        "model.add(MaxPooling2D(pool_size=(2,2)))\n",
        "\n",
        "model.add(Flatten())\n",
        "\n",
        "model.add(Dense(2, activation='softmax'))"
      ],
      "execution_count": null,
      "outputs": []
    },
    {
      "cell_type": "code",
      "metadata": {
        "id": "aQBUPmXc0nDr"
      },
      "source": [
        "# model 7 with batch norm\n",
        "model = Sequential()\n",
        "model.add(Conv2D(16, (3,3), input_shape=x.shape[1:], activation='relu'))\n",
        "model.add(MaxPooling2D(pool_size=(2,2)))\n",
        "\n",
        "model.add(Conv2D(32, (3,3), activation='relu'))\n",
        "model.add(BatchNormalization())\n",
        "model.add(MaxPooling2D(pool_size=(2,2)))\n",
        "\n",
        "model.add(Conv2D(64, (3,3), activation='relu'))\n",
        "model.add(BatchNormalization())\n",
        "model.add(MaxPooling2D(pool_size=(2,2)))\n",
        "\n",
        "model.add(Conv2D(128, (3,3), activation='relu'))\n",
        "model.add(BatchNormalization())\n",
        "model.add(MaxPooling2D(pool_size=(2,2)))\n",
        "\n",
        "model.add(Conv2D(256, (3,3), activation='relu'))\n",
        "model.add(BatchNormalization())\n",
        "model.add(MaxPooling2D(pool_size=(2,2)))\n",
        "\n",
        "model.add(Conv2D(512, (3,3), activation='relu'))\n",
        "model.add(BatchNormalization())\n",
        "model.add(MaxPooling2D(pool_size=(2,2)))\n",
        "\n",
        "model.add(Flatten())\n",
        "\n",
        "model.add(Dense(2, activation='softmax'))"
      ],
      "execution_count": null,
      "outputs": []
    },
    {
      "cell_type": "code",
      "metadata": {
        "id": "wRQ2NRqlVj3d"
      },
      "source": [
        "# model 8\n",
        "model = Sequential()\n",
        "model.add(Conv2D(16, (3,3), input_shape=x.shape[1:], activation='relu'))\n",
        "model.add(MaxPooling2D(pool_size=(2,2)))\n",
        "\n",
        "model.add(Conv2D(32, (3,3), activation='relu'))\n",
        "model.add(MaxPooling2D(pool_size=(2,2)))\n",
        "\n",
        "model.add(Conv2D(64, (3,3), activation='relu'))\n",
        "model.add(MaxPooling2D(pool_size=(2,2)))\n",
        "\n",
        "model.add(Conv2D(128, (3,3), activation='relu'))\n",
        "model.add(MaxPooling2D(pool_size=(2,2)))\n",
        "\n",
        "model.add(Conv2D(256, (3,3), activation='relu'))\n",
        "model.add(MaxPooling2D(pool_size=(2,2)))\n",
        "\n",
        "model.add(Conv2D(512, (3,3), activation='relu'))\n",
        "model.add(MaxPooling2D(pool_size=(2,2)))\n",
        "\n",
        "model.add(Flatten())\n",
        "model.add(Dense(4096, activation='relu'))\n",
        "model.add(Dense(2, activation='softmax'))"
      ],
      "execution_count": null,
      "outputs": []
    },
    {
      "cell_type": "code",
      "metadata": {
        "id": "y9wy8wkaYf5v"
      },
      "source": [
        "# model 9\n",
        "model = Sequential()\n",
        "model.add(Conv2D(16, (3,3), input_shape=x.shape[1:], activation='relu'))\n",
        "model.add(MaxPooling2D(pool_size=(2,2)))\n",
        "\n",
        "model.add(Conv2D(32, (3,3), activation='relu'))\n",
        "model.add(MaxPooling2D(pool_size=(2,2)))\n",
        "\n",
        "model.add(Conv2D(64, (3,3), activation='relu'))\n",
        "model.add(MaxPooling2D(pool_size=(2,2)))\n",
        "\n",
        "model.add(Conv2D(128, (3,3), activation='relu'))\n",
        "model.add(MaxPooling2D(pool_size=(2,2)))\n",
        "\n",
        "model.add(Conv2D(256, (3,3), activation='relu'))\n",
        "model.add(MaxPooling2D(pool_size=(2,2)))\n",
        "\n",
        "model.add(Conv2D(512, (3,3), activation='relu'))\n",
        "model.add(MaxPooling2D(pool_size=(2,2)))\n",
        "\n",
        "\n",
        "\n",
        "model.add(Flatten())\n",
        "model.add(Dense(4096, activation='relu'))\n",
        "model.add(Dense(4096, activation='relu')) \n",
        "model.add(Dense(2, activation='softmax'))"
      ],
      "execution_count": null,
      "outputs": []
    },
    {
      "cell_type": "markdown",
      "metadata": {
        "id": "Mb6Lf5Ure3ay"
      },
      "source": [
        "**compile model**"
      ]
    },
    {
      "cell_type": "code",
      "metadata": {
        "id": "qW5ipxvWocDq"
      },
      "source": [
        "opt = SGD(lr=0.001, momentum=0.9)\n",
        "model.compile(loss = \"categorical_crossentropy\", optimizer = opt, metrics=['accuracy'])"
      ],
      "execution_count": null,
      "outputs": []
    },
    {
      "cell_type": "code",
      "metadata": {
        "id": "q7AmJp3voYkA"
      },
      "source": [
        "model.compile(loss = \"categorical_crossentropy\", optimizer = \"adam\", metrics=['accuracy'])"
      ],
      "execution_count": null,
      "outputs": []
    },
    {
      "cell_type": "markdown",
      "metadata": {
        "id": "_IhSXK2GJwvR"
      },
      "source": [
        "checkpointer"
      ]
    },
    {
      "cell_type": "code",
      "metadata": {
        "id": "dp2Xfm6CmSPf"
      },
      "source": [
        "checkpointer = ModelCheckpoint(filepath= \"/content/model\", verbose=1, monitor='val_loss', save_best_only=True)"
      ],
      "execution_count": null,
      "outputs": []
    },
    {
      "cell_type": "markdown",
      "metadata": {
        "id": "RcbN8jd7eMc-"
      },
      "source": [
        "**Fit**"
      ]
    },
    {
      "cell_type": "code",
      "metadata": {
        "id": "7lhK1Lp7O8_D"
      },
      "source": [
        "model.fit(x,y, validation_split=0.2, epochs=15, verbose=1, callbacks=[checkpointer])"
      ],
      "execution_count": null,
      "outputs": []
    },
    {
      "cell_type": "markdown",
      "metadata": {
        "id": "E_SVGTlxebVq"
      },
      "source": [
        "**Evaluate**"
      ]
    },
    {
      "cell_type": "code",
      "metadata": {
        "id": "G0V3x9t4T5Pw"
      },
      "source": [
        "class_names = [\"cat\", \"dog\"]\n",
        "\n",
        "# make prediction\n",
        "predictions = make_prediction_from_array_keras(test_x, \"/content/model\", print_output=False)\n",
        "\n",
        "# create confusion matrix\n",
        "cnf_matrix = create_confusion_matrix(predictions, test_y, class_names=class_names, one_hot=True)\n",
        "\n",
        "\n",
        "accuracy = (cnf_matrix[0][0]+cnf_matrix[1][1]) / sum(sum(cnf_matrix))\n",
        "\n",
        "prescision_dog = cnf_matrix[1][1]/(cnf_matrix[1][1]+cnf_matrix[0][1])\n",
        "recall_dog = cnf_matrix[1][1]/(cnf_matrix[1][1]+cnf_matrix[1][0])\n",
        "\n",
        "prescision_cat = cnf_matrix[0][0]/(cnf_matrix[0][0]+cnf_matrix[1][0])\n",
        "recall_cat = cnf_matrix[0][0]/(cnf_matrix[0][0]+cnf_matrix[0][1])\n",
        "\n",
        "\n",
        "print(\"accuracy {}\".format(accuracy))\n",
        "\n",
        "print(\"prescision_dog {} recall_dog {}\".format(prescision_dog,recall_dog))\n",
        "\n",
        "print(\"prescision_cat {} recall_cat {}\".format(prescision_cat,recall_cat))\n"
      ],
      "execution_count": null,
      "outputs": []
    }
  ]
}